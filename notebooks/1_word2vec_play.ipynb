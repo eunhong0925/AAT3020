{
  "cells": [
    {
      "cell_type": "code",
      "execution_count": 3,
      "metadata": {
        "id": "JA0OMsVp7iWw"
      },
      "outputs": [],
      "source": [
        "import gensim\n",
        "import numpy as np\n",
        "import pprint as pp\n"
      ]
    },
    {
      "cell_type": "code",
      "execution_count": 5,
      "metadata": {
        "colab": {
          "base_uri": "https://localhost:8080/"
        },
        "id": "6YhX4SKH7iWz",
        "outputId": "fff4dea0-04c3-4518-e39b-287189add87d"
      },
      "outputs": [
        {
          "output_type": "execute_result",
          "data": {
            "text/plain": [
              "['fasttext-wiki-news-subwords-300',\n",
              " 'conceptnet-numberbatch-17-06-300',\n",
              " 'word2vec-ruscorpora-300',\n",
              " 'word2vec-google-news-300',\n",
              " 'glove-wiki-gigaword-50',\n",
              " 'glove-wiki-gigaword-100',\n",
              " 'glove-wiki-gigaword-200',\n",
              " 'glove-wiki-gigaword-300',\n",
              " 'glove-twitter-25',\n",
              " 'glove-twitter-50',\n",
              " 'glove-twitter-100',\n",
              " 'glove-twitter-200',\n",
              " '__testing_word2vec-matrix-synopsis']"
            ]
          },
          "metadata": {},
          "execution_count": 5
        }
      ],
      "source": [
        "import gensim.downloader\n",
        "list(gensim.downloader.info()['models'].keys())\n"
      ]
    },
    {
      "cell_type": "code",
      "execution_count": 7,
      "metadata": {
        "colab": {
          "base_uri": "https://localhost:8080/"
        },
        "id": "9U9g8R5i7iWz",
        "outputId": "68415b6d-1846-4bf5-9d21-2c4d925e464d"
      },
      "outputs": [
        {
          "output_type": "stream",
          "name": "stdout",
          "text": [
            "[==================================================] 100.0% 104.8/104.8MB downloaded\n"
          ]
        }
      ],
      "source": [
        "your_model_code = 'glove-twitter-25' # select among the model code aboves\n",
        "model = gensim.downloader.load(your_model_code) # download and load the model. It can take some time\n"
      ]
    },
    {
      "cell_type": "code",
      "execution_count": 10,
      "metadata": {
        "colab": {
          "base_uri": "https://localhost:8080/"
        },
        "id": "d29SAyKK7iW0",
        "outputId": "2cb9fded-b49b-46eb-bedf-e4ad839764d3"
      },
      "outputs": [
        {
          "output_type": "execute_result",
          "data": {
            "text/plain": [
              "array([-0.62645 , -0.082389,  0.070538,  0.5782  , -0.87199 , -0.14816 ,\n",
              "        2.2315  ,  0.98573 , -1.3154  , -0.34921 , -0.8847  ,  0.14585 ,\n",
              "       -4.97    , -0.73369 , -0.94359 ,  0.035859, -0.026733, -0.77538 ,\n",
              "       -0.30014 ,  0.48853 , -0.16678 , -0.016651, -0.53164 ,  0.64236 ,\n",
              "       -0.10922 ], dtype=float32)"
            ]
          },
          "metadata": {},
          "execution_count": 10
        }
      ],
      "source": [
        "your_word = 'love'\n",
        "model[your_word]"
      ]
    },
    {
      "cell_type": "code",
      "execution_count": 11,
      "metadata": {
        "colab": {
          "base_uri": "https://localhost:8080/"
        },
        "id": "6nYLwo2W7iW0",
        "outputId": "a9e15021-39b0-4380-8151-2cd3db65118d"
      },
      "outputs": [
        {
          "output_type": "execute_result",
          "data": {
            "text/plain": [
              "[('you', 0.9448828101158142),\n",
              " ('baby', 0.9425430297851562),\n",
              " ('dream', 0.9267040491104126),\n",
              " ('miss', 0.9246909022331238),\n",
              " ('much', 0.9215252995491028),\n",
              " ('see', 0.919786810874939),\n",
              " ('happy', 0.9176183938980103),\n",
              " ('beautiful', 0.9173233509063721),\n",
              " ('smile', 0.9138967394828796),\n",
              " ('loves', 0.9123677611351013)]"
            ]
          },
          "metadata": {},
          "execution_count": 11
        }
      ],
      "source": [
        "model.most_similar(your_word)"
      ]
    }
  ],
  "metadata": {
    "kernelspec": {
      "display_name": "Python 3",
      "language": "python",
      "name": "python3"
    },
    "language_info": {
      "name": "python",
      "version": "3.8.10"
    },
    "colab": {
      "provenance": []
    }
  },
  "nbformat": 4,
  "nbformat_minor": 0
}